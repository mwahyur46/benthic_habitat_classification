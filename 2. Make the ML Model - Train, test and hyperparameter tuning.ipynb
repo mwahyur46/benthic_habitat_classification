{
 "cells": [
  {
   "cell_type": "markdown",
   "metadata": {},
   "source": [
    "# 2. Building the Machine Learning Model\n",
    "This step focuses on developing a Machine Learning (ML) model to predict benthic habitat classes from PlanetScope image data using the Extreme Gradient Boosting (XGBoost) algorithm. The process also includes hyperparameter tuning to identify the best parameter configuration for optimal model performance. <br>\n",
    "\n",
    "First, we will load the training and testing datasets prepared in the previous step. Make sure that the directory path is correct before proceeding.\n"
   ]
  },
  {
   "cell_type": "code",
   "execution_count": 1,
   "metadata": {},
   "outputs": [
    {
     "name": "stdout",
     "output_type": "stream",
     "text": [
      "(4692, 8) (5237, 8) (4692,) (5237,)\n"
     ]
    }
   ],
   "source": [
    "# Load the training and testing data that has been saved in Numpy Array format\n",
    "import numpy as np\n",
    "\n",
    "X_train = np.load(r\"Train\\X_train_resampled.npy\")\n",
    "X_test = np.load(r\"Train\\X_test.npy\")\n",
    "y_train = np.load(r\"Train\\y_train_resampled.npy\")\n",
    "y_test = np.load(r\"Train\\y_test.npy\")\n",
    "print(X_train.shape, X_test.shape, y_train.shape, y_test.shape)\n"
   ]
  },
  {
   "cell_type": "markdown",
   "metadata": {},
   "source": [
    "The classes in the sample data consist of 6 classes, so we will make sure if this is correct."
   ]
  },
  {
   "cell_type": "code",
   "execution_count": 2,
   "metadata": {},
   "outputs": [
    {
     "name": "stdout",
     "output_type": "stream",
     "text": [
      "[0 1 2 3 4 5] Number of classes\n"
     ]
    }
   ],
   "source": [
    "# Check the number of classes\n",
    "print(f\"{np.unique(y_train)} Number of classes\")"
   ]
  },
  {
   "cell_type": "markdown",
   "metadata": {},
   "source": [
    "## Import Machine Learning Library"
   ]
  },
  {
   "cell_type": "markdown",
   "metadata": {},
   "source": [
    "There are many machine learning (ML) algorithm options for tasks such as classification, including benthic habitat classification. Here, we choose the **Extreme Gradient Boosting (XGBoost)** algorithm to develop a classification model. <br>  \n",
    "\n",
    "Compared to established decision tree-based algorithms like Random Forest (RF), XGBoost uses a boosting technique to iteratively build the model and correct errors from the previous iteration. However, this comes with the trade-off of requiring relatively more time and computational resources. <br>\n",
    "\n",
    "Import the `xgboost` library and `XGBClassifier` into the environment so that its functions and modules can be accessed."
   ]
  },
  {
   "cell_type": "code",
   "execution_count": 3,
   "metadata": {},
   "outputs": [],
   "source": [
    "# If not installed yet (delete comment below)\n",
    "# !pip install xgboost\n",
    "import xgboost\n",
    "from xgboost import XGBClassifier\n"
   ]
  },
  {
   "cell_type": "markdown",
   "metadata": {},
   "source": [
    "Check the available parameters of this algorithm that can be customized. <br>\n",
    "\n",
    "[Source](https://xgboost.readthedocs.io/en/latest/parameter.html)\n",
    "\n"
   ]
  },
  {
   "cell_type": "code",
   "execution_count": 4,
   "metadata": {},
   "outputs": [
    {
     "data": {
      "text/plain": [
       "{'objective': 'binary:logistic',\n",
       " 'base_score': None,\n",
       " 'booster': None,\n",
       " 'colsample_bylevel': None,\n",
       " 'colsample_bynode': None,\n",
       " 'colsample_bytree': None,\n",
       " 'device': None,\n",
       " 'eval_metric': None,\n",
       " 'gamma': None,\n",
       " 'grow_policy': None,\n",
       " 'interaction_constraints': None,\n",
       " 'learning_rate': None,\n",
       " 'max_bin': None,\n",
       " 'max_cat_threshold': None,\n",
       " 'max_cat_to_onehot': None,\n",
       " 'max_delta_step': None,\n",
       " 'max_depth': None,\n",
       " 'max_leaves': None,\n",
       " 'min_child_weight': None,\n",
       " 'monotone_constraints': None,\n",
       " 'multi_strategy': None,\n",
       " 'n_jobs': None,\n",
       " 'num_parallel_tree': None,\n",
       " 'random_state': None,\n",
       " 'reg_alpha': None,\n",
       " 'reg_lambda': None,\n",
       " 'sampling_method': None,\n",
       " 'scale_pos_weight': None,\n",
       " 'subsample': None,\n",
       " 'tree_method': None,\n",
       " 'validate_parameters': None,\n",
       " 'verbosity': None}"
      ]
     },
     "execution_count": 4,
     "metadata": {},
     "output_type": "execute_result"
    }
   ],
   "source": [
    "# Check available xgboost parameters\n",
    "xgb_params = XGBClassifier()\n",
    "xgb_params.get_xgb_params()"
   ]
  },
  {
   "cell_type": "markdown",
   "metadata": {},
   "source": [
    "We can already create a model using the default parameters provided by `xgboost` above. The advantage of this approach is its practicality; however, the model may not necessarily achieve optimal performance or the highest accuracy. <br>"
   ]
  },
  {
   "cell_type": "markdown",
   "metadata": {},
   "source": [
    "## Hyperparameter Tuning\n",
    "The two major ways of hyperparameter tuning include the manual and the automatic. In a manual approach, we test various combinations of parameters ourselves, which may be pretty time-consuming and not so effective. The automatic approach, on the other hand, does the job of finding out the best parameters on its own using techniques like **Grid Search** or **Random Search**. <br>\n",
    "\n",
    "The automatic approach is favored because:\n",
    "\n",
    "- **Efficiency**: It saves time by systematically going through all possible combinations or random selections of parameters.\n",
    "\n",
    "- **Better Results**: It finds the best parameters that optimize accuracy using cross-validation methods.\n",
    "\n",
    "- **Reduced Human Error**: It reduces the potential errors that may arise with the manual process.\n",
    "\n",
    "The code below uses `GridSearchCV` module from `sklearn` library, a method for automated hyperparameter tuning: given a range of parameter options, it will run many different models based on these parameters and return the best."
   ]
  },
  {
   "cell_type": "code",
   "execution_count": 5,
   "metadata": {},
   "outputs": [],
   "source": [
    "# Import GridSearchCV\n",
    "from sklearn.model_selection import GridSearchCV\n",
    "\n",
    "# Create the initial xgboost model\n",
    "xgb_model = XGBClassifier(random_state=42)"
   ]
  },
  {
   "cell_type": "markdown",
   "metadata": {},
   "source": [
    "### Define Parameter List\n",
    "Define a **parameter grid** for hyperparameter tuning. Listed below are several values of each hyperparameter that will be tried out during tuning in search of the best combination for the model:\n",
    "\n",
    "* **`n_estimators`**: The number of trees within the model: 50, 100, 300\n",
    "* **`max_depth`**: The maximum depth of the trees: 3, 6, 9\n",
    "* **`eta`** (learning rate): Step size of updates while moving toward a minimum of a loss function: 0.1, 0.3, 0.5\n",
    "* **`gamma`**: Minimum loss reduction required to make a further partition (options: 0, 0.1, 0.2)\n",
    "* **`subsample`**: Fraction of samples used for each tree (options: 0.8, 1.0)\n",
    "* **`colsample_bytree`**: Fraction of features used for each tree (options: 0.8, 1.0)\n",
    "<br>\n",
    "\n",
    "[Source](https://scikit-learn.org/dev/modules/generated/sklearn.model_selection.GridSearchCV.html)\n",
    "\n"
   ]
  },
  {
   "cell_type": "code",
   "execution_count": 6,
   "metadata": {},
   "outputs": [],
   "source": [
    "# Define a list of parameters for hyperparameter tuning\n",
    "# List of the parameters\n",
    "param_list = {\n",
    "    'n_estimators': [50, 100, 300], #  Number of trees to build in the model. Trying 50, 100, and 300 trees.\n",
    "    'max_depth': [3, 6, 9], # Maximum depth of each tree. Trying depths of 3, 6, and 9.\n",
    "    'eta': [0.1, 0.3, 0.5], # Controls the step size of the learning process. Trying values of 0.1, 0.3, and 0.5.\n",
    "    'gamma': [0, 0.1, 0.2], # Minimum loss reduction required for further partitioning a leaf node. Trying values of 0, 0.1, and 0.2.\n",
    "    'subsample': [0.8, 1.0], # Fraction of the training data to use for fitting each tree. Trying 0.8 and 1.0.\n",
    "    'colsample_bytree': [0.8, 1.0], # Fraction of features to use for each tree. Trying 0.8 and 1.0.\n",
    "}\n"
   ]
  },
  {
   "cell_type": "markdown",
   "metadata": {},
   "source": [
    "Use 5-fold cross-validation in GridSearchCV to ensure the model's performance is evaluated more robustly. Here's why:\n",
    "\n",
    "- **Divide the data** into 5 equal parts (folds).\n",
    "- **Train the model** on 4 folds and test it on the remaining fold. This is repeated 5 times, with each fold used for testing once.\n",
    "- This helps **reduce overfitting** and gives a better estimate of the model's performance by averaging the results.\n",
    "\n",
    "Using cross-validation ensures that the chosen hyperparameters are effective across different subsets of the data. <br>\n",
    "\n",
    "[Source](https://scikit-learn.org/1.5/modules/cross_validation.html)"
   ]
  },
  {
   "cell_type": "code",
   "execution_count": 7,
   "metadata": {},
   "outputs": [],
   "source": [
    "# 5-fold cross-validation GridSearchCV\n",
    "grid_search = GridSearchCV(\n",
    "    xgb_model,            # The model you want to tune (XGBoost classifier)\n",
    "    param_list,           # The grid of hyperparameters to search\n",
    "    cv=5,                 # Number of folds for cross-validation (5-fold)\n",
    "    scoring='accuracy',   # The metric used to evaluate model performance (accuracy)\n",
    "    n_jobs=-1,            # Use all available CPU cores for parallel processing\n",
    "    verbose=5             # Display progress and information (higher value gives more details)\n",
    ")\n"
   ]
  },
  {
   "cell_type": "markdown",
   "metadata": {},
   "source": [
    "### Execute Hyperparameter Tuning  \n",
    "Run hyperparameter tuning using the `GridSearchCV` that has been created. To add more information about the processing, also include a command to record the duration of time taken to search for the best parameters."
   ]
  },
  {
   "cell_type": "code",
   "execution_count": 8,
   "metadata": {},
   "outputs": [
    {
     "name": "stdout",
     "output_type": "stream",
     "text": [
      "Fitting 5 folds for each of 324 candidates, totalling 1620 fits\n",
      "Total time for execution: 210.446 seconds\n",
      "Optimal parameters: {'colsample_bytree': 1.0, 'eta': 0.1, 'gamma': 0, 'max_depth': 9, 'n_estimators': 300, 'subsample': 0.8}\n",
      "Highest cross-validation accuracy: 0.8531600327890443\n"
     ]
    }
   ],
   "source": [
    "import time\n",
    "\n",
    "# Record the start time\n",
    "start = time.time()\n",
    "\n",
    "# Fit the XGBoost model using grid search\n",
    "grid_search.fit(X_train, y_train)\n",
    "\n",
    "# Record the end time\n",
    "finish = time.time()\n",
    "\n",
    "# Calculate the time taken for the process\n",
    "time_taken = finish - start\n",
    "print(f\"Total time for execution: {time_taken:.3f} seconds\")\n",
    "\n",
    "# Display the best parameters found during grid search\n",
    "print(\"Optimal parameters:\", grid_search.best_params_)\n",
    "print(\"Highest cross-validation accuracy:\", grid_search.best_score_)\n"
   ]
  },
  {
   "cell_type": "markdown",
   "metadata": {},
   "source": [
    "### Model Evaluation \n",
    "This script defines a function to evaluate classification performance, making it easier for future evaluations. It calculates overall accuracy, generates a classification report (precision, recall, F1-score), and visualizes the confusion matrix. This helps to assess how well the model performs and where it makes errors.\n",
    "Create `evaluate_classification` function to evaluate the performance of the model. The function will generate a classification report:\n",
    "- **Overall Accuracy**: Calculates and prints the overall accuracy score of the model.\n",
    "- **Classification Report**: Generates a classification report that includes precision (User Accuracy), recall (Producer Accuracy), and F1-score for each class.\n",
    "- **Confusion Matrix**: Computes the confusion matrix and visualizes it using a heatmap, showing the number of correct and incorrect predictions for each class.\n"
   ]
  },
  {
   "cell_type": "code",
   "execution_count": null,
   "metadata": {},
   "outputs": [
    {
     "name": "stdout",
     "output_type": "stream",
     "text": [
      "magma\n",
      "inferno\n",
      "plasma\n",
      "viridis\n",
      "cividis\n",
      "twilight\n",
      "twilight_shifted\n",
      "turbo\n",
      "Blues\n",
      "BrBG\n",
      "BuGn\n",
      "BuPu\n",
      "CMRmap\n",
      "GnBu\n",
      "Greens\n",
      "Greys\n",
      "OrRd\n",
      "Oranges\n",
      "PRGn\n",
      "PiYG\n",
      "PuBu\n",
      "PuBuGn\n",
      "PuOr\n",
      "PuRd\n",
      "Purples\n",
      "RdBu\n",
      "RdGy\n",
      "RdPu\n",
      "RdYlBu\n",
      "RdYlGn\n",
      "Reds\n",
      "Spectral\n",
      "Wistia\n",
      "YlGn\n",
      "YlGnBu\n",
      "YlOrBr\n",
      "YlOrRd\n",
      "afmhot\n",
      "autumn\n",
      "binary\n",
      "bone\n",
      "brg\n",
      "bwr\n",
      "cool\n",
      "coolwarm\n",
      "copper\n",
      "cubehelix\n",
      "flag\n",
      "gist_earth\n",
      "gist_gray\n",
      "gist_heat\n",
      "gist_ncar\n",
      "gist_rainbow\n",
      "gist_stern\n",
      "gist_yarg\n",
      "gnuplot\n",
      "gnuplot2\n",
      "gray\n",
      "hot\n",
      "hsv\n",
      "jet\n",
      "nipy_spectral\n",
      "ocean\n",
      "pink\n",
      "prism\n",
      "rainbow\n",
      "seismic\n",
      "spring\n",
      "summer\n",
      "terrain\n",
      "winter\n",
      "Accent\n",
      "Dark2\n",
      "Paired\n",
      "Pastel1\n",
      "Pastel2\n",
      "Set1\n",
      "Set2\n",
      "Set3\n",
      "tab10\n",
      "tab20\n",
      "tab20b\n",
      "tab20c\n",
      "grey\n",
      "gist_grey\n",
      "gist_yerg\n",
      "Grays\n",
      "magma_r\n",
      "inferno_r\n",
      "plasma_r\n",
      "viridis_r\n",
      "cividis_r\n",
      "twilight_r\n",
      "twilight_shifted_r\n",
      "turbo_r\n",
      "Blues_r\n",
      "BrBG_r\n",
      "BuGn_r\n",
      "BuPu_r\n",
      "CMRmap_r\n",
      "GnBu_r\n",
      "Greens_r\n",
      "Greys_r\n",
      "OrRd_r\n",
      "Oranges_r\n",
      "PRGn_r\n",
      "PiYG_r\n",
      "PuBu_r\n",
      "PuBuGn_r\n",
      "PuOr_r\n",
      "PuRd_r\n",
      "Purples_r\n",
      "RdBu_r\n",
      "RdGy_r\n",
      "RdPu_r\n",
      "RdYlBu_r\n",
      "RdYlGn_r\n",
      "Reds_r\n",
      "Spectral_r\n",
      "Wistia_r\n",
      "YlGn_r\n",
      "YlGnBu_r\n",
      "YlOrBr_r\n",
      "YlOrRd_r\n",
      "afmhot_r\n",
      "autumn_r\n",
      "binary_r\n",
      "bone_r\n",
      "brg_r\n",
      "bwr_r\n",
      "cool_r\n",
      "coolwarm_r\n",
      "copper_r\n",
      "cubehelix_r\n",
      "flag_r\n",
      "gist_earth_r\n",
      "gist_gray_r\n",
      "gist_heat_r\n",
      "gist_ncar_r\n",
      "gist_rainbow_r\n",
      "gist_stern_r\n",
      "gist_yarg_r\n",
      "gnuplot_r\n",
      "gnuplot2_r\n",
      "gray_r\n",
      "hot_r\n",
      "hsv_r\n",
      "jet_r\n",
      "nipy_spectral_r\n",
      "ocean_r\n",
      "pink_r\n",
      "prism_r\n",
      "rainbow_r\n",
      "seismic_r\n",
      "spring_r\n",
      "summer_r\n",
      "terrain_r\n",
      "winter_r\n",
      "Accent_r\n",
      "Dark2_r\n",
      "Paired_r\n",
      "Pastel1_r\n",
      "Pastel2_r\n",
      "Set1_r\n",
      "Set2_r\n",
      "Set3_r\n",
      "tab10_r\n",
      "tab20_r\n",
      "tab20b_r\n",
      "tab20c_r\n",
      "rocket\n",
      "rocket_r\n",
      "mako\n",
      "mako_r\n",
      "icefire\n",
      "icefire_r\n",
      "vlag\n",
      "vlag_r\n",
      "flare\n",
      "flare_r\n",
      "crest\n",
      "crest_r\n"
     ]
    }
   ],
   "source": [
    "# Install metrics module from scikit-learn to do model evaluation\n",
    "from sklearn.metrics import accuracy_score, confusion_matrix, classification_report\n",
    "import seaborn as sns\n",
    "import matplotlib.pyplot as plt\n",
    "\n",
    "# List available colormaps in Matplotlib (also used in Seaborn)\n",
    "cmap_list = plt.colormaps()\n",
    "\n",
    "# Print available colormaps\n",
    "for cmap in cmap_list:\n",
    "    print(cmap)\n"
   ]
  },
  {
   "cell_type": "code",
   "execution_count": 10,
   "metadata": {},
   "outputs": [],
   "source": [
    "# Create evaluation function for future convenience\n",
    "def evaluate_classification(y_true, y_pred):\n",
    "    # Calculate overall accuracy\n",
    "    OA = accuracy_score(y_true, y_pred)\n",
    "\n",
    "    # Print Overall Accuracy\n",
    "    print(f\"Overall Accuracy: {OA:.4f}\")\n",
    "\n",
    "    # Calculate classification report: precision, recall, f1-score\n",
    "    report = classification_report(y_true, y_pred, digits=4)\n",
    "    print(report)\n",
    "\n",
    "    # Calculate confusion matrix for each class\n",
    "    class_names = ['Rock', 'Rubble', 'Coral-Algae', 'Sand', 'Seagrass', 'Microalgal Mats']\n",
    "    cm = confusion_matrix(y_true, y_pred)\n",
    "\n",
    "    # Visualize confusion matrix using seaborn heatmap\n",
    "    plt.figure(figsize=(8,6))\n",
    "    sns.heatmap(cm, annot=True, fmt='d', cmap='viridis', cbar=False,\n",
    "                xticklabels=class_names, yticklabels=class_names)\n",
    "    plt.xlabel('Predicted Label')\n",
    "    plt.ylabel('True Label')\n",
    "    plt.title('Confusion Matrix', fontsize=14)\n",
    "    plt.show()\n"
   ]
  },
  {
   "cell_type": "markdown",
   "metadata": {},
   "source": [
    "Use best model from the grid search to make predictions on the test datasets and then evaluates the performance using `evaluate_classification`"
   ]
  },
  {
   "cell_type": "code",
   "execution_count": 11,
   "metadata": {},
   "outputs": [
    {
     "name": "stdout",
     "output_type": "stream",
     "text": [
      "Overall Accuracy: 0.6019\n",
      "              precision    recall  f1-score   support\n",
      "\n",
      "           0     0.3232    0.2927    0.3072       328\n",
      "           1     0.5787    0.6164    0.5969      1551\n",
      "           2     0.5925    0.5951    0.5938      1825\n",
      "           3     0.3443    0.2401    0.2829       304\n",
      "           4     0.7693    0.7763    0.7728      1207\n",
      "           5     0.1600    0.1818    0.1702        22\n",
      "\n",
      "    accuracy                         0.6019      5237\n",
      "   macro avg     0.4613    0.4504    0.4540      5237\n",
      "weighted avg     0.5961    0.6019    0.5982      5237\n",
      "\n"
     ]
    },
    {
     "data": {
      "image/png": "[encoded data removed]",
      "text/plain": [
       "<Figure size 800x600 with 1 Axes>"
      ]
     },
     "metadata": {},
     "output_type": "display_data"
    }
   ],
   "source": [
    "# Retrieve the optimal XGBoost model from grid search\n",
    "optimized_xgb = grid_search.best_estimator_\n",
    "\n",
    "# Use the optimized model to make predictions on the test dataset\n",
    "predictions = optimized_xgb.predict(X_test)\n",
    "\n",
    "# Evaluate the model's performance by comparing the predicted and actual values\n",
    "evaluate_classification(y_test, predictions)\n"
   ]
  },
  {
   "cell_type": "markdown",
   "metadata": {},
   "source": [
    "## Save the Model\n",
    "Once the model is trained, save it in the `.pkl` extension or \"pickle,\" which is a Python method for saving objects like ML models. By saving it with this file extension, it becomes easier to use it elsewhere or retrain it, making it more efficient."
   ]
  },
  {
   "cell_type": "code",
   "execution_count": 12,
   "metadata": {},
   "outputs": [
    {
     "data": {
      "text/plain": [
       "['Model\\\\benthic_xgb_model.pkl']"
      ]
     },
     "execution_count": 12,
     "metadata": {},
     "output_type": "execute_result"
    }
   ],
   "source": [
    "# Import joblib to save or load objects like ML models\n",
    "# It's quite efficient for saving large models that have many trees such as XGBoost\n",
    "import joblib\n",
    "\n",
    "# Save trained model to a .pkl file\n",
    "joblib.dump(optimized_xgb, r\"Model\\benthic_xgb_model.pkl\")"
   ]
  }
 ],
 "metadata": {
  "kernelspec": {
   "display_name": "geo",
   "language": "python",
   "name": "python3"
  },
  "language_info": {
   "codemirror_mode": {
    "name": "ipython",
    "version": 3
   },
   "file_extension": ".py",
   "mimetype": "text/x-python",
   "name": "python",
   "nbconvert_exporter": "python",
   "pygments_lexer": "ipython3",
   "version": "3.12.5"
  }
 },
 "nbformat": 4,
 "nbformat_minor": 2
}
